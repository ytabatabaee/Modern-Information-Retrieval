{
 "cells": [
  {
   "cell_type": "markdown",
   "metadata": {
    "colab_type": "text",
    "id": "d5LwninKOBvU"
   },
   "source": [
    "# Learning to Rank on MQ2008 Dataset"
   ]
  },
  {
   "cell_type": "code",
   "execution_count": 4,
   "metadata": {
    "colab": {},
    "colab_type": "code",
    "executionInfo": {
     "elapsed": 1162,
     "status": "ok",
     "timestamp": 1593863880990,
     "user": {
      "displayName": "Yasamin Tabatabaee",
      "photoUrl": "",
      "userId": "07445355406834081164"
     },
     "user_tz": -270
    },
    "id": "UsMTZfG0ZRB-"
   },
   "outputs": [],
   "source": [
    "# Importing libraries\n",
    "\n",
    "import pandas as pd\n",
    "import numpy as np\n",
    "import itertools\n",
    "from sklearn import svm\n",
    "from sklearn.model_selection import GridSearchCV\n",
    "from sklearn.metrics import ndcg_score\n",
    "from sklearn.metrics import classification_report, confusion_matrix, accuracy_score"
   ]
  },
  {
   "cell_type": "markdown",
   "metadata": {
    "colab_type": "text",
    "id": "IcdR_m8QPjYB"
   },
   "source": [
    "## Building train, validation, test data"
   ]
  },
  {
   "cell_type": "code",
   "execution_count": 5,
   "metadata": {
    "colab": {},
    "colab_type": "code",
    "executionInfo": {
     "elapsed": 851,
     "status": "ok",
     "timestamp": 1593863881569,
     "user": {
      "displayName": "Yasamin Tabatabaee",
      "photoUrl": "",
      "userId": "07445355406834081164"
     },
     "user_tz": -270
    },
    "id": "c3fz-x-W4Tu8"
   },
   "outputs": [],
   "source": [
    "# Extracting (q, d, c) from dataset\n",
    "\n",
    "def load_data(file_path):\n",
    "    '''returns a dictionary with keys equal to queries and values equal to features of each doc\n",
    "    dict of q: (d1, c1), (d2, c2), ..., (dn, cn) where c is relevance and d is doc feature vector'''\n",
    "    query_feedback = {}\n",
    "    with open(file_path) as fp:\n",
    "        line = fp.readline()\n",
    "        while line:\n",
    "            parts = line.strip().split(\" \")\n",
    "            c = int(parts[0]) # relevance\n",
    "            q = parts[1].split(\":\")[1] # query id\n",
    "            s = parts[2:48] # feature vector\n",
    "            s = np.array([float(f.split(\":\")[1]) for f in s])\n",
    "            if q in query_feedback:\n",
    "                query_feedback[q].append((s, c))\n",
    "            else:\n",
    "                query_feedback[q] = [(s, c)]\n",
    "            line = fp.readline()\n",
    "    return query_feedback       "
   ]
  },
  {
   "cell_type": "code",
   "execution_count": 21,
   "metadata": {
    "colab": {},
    "colab_type": "code",
    "executionInfo": {
     "elapsed": 1084,
     "status": "ok",
     "timestamp": 1593864617164,
     "user": {
      "displayName": "Yasamin Tabatabaee",
      "photoUrl": "",
      "userId": "07445355406834081164"
     },
     "user_tz": -270
    },
    "id": "Kooc5C7M3odg"
   },
   "outputs": [],
   "source": [
    "# Building pairwise features and targets (for train data)\n",
    "\n",
    "def build_pairwise_data(query_dict):\n",
    "    y = []\n",
    "    X = []\n",
    "    for query in query_dict:\n",
    "        docs = query_dict[query]\n",
    "        for (d1, c1), (d2, c2) in itertools.combinations(docs, 2):\n",
    "            # do not consider pairs with equal relevance\n",
    "            if c1 == c2:\n",
    "                continue\n",
    "            X.append(d1 - d2)\n",
    "            y.append(np.sign(c1 - c2))\n",
    "    y = np.array(y)\n",
    "    X = np.array(X)\n",
    "    return X, y    "
   ]
  },
  {
   "cell_type": "code",
   "execution_count": 13,
   "metadata": {
    "colab": {},
    "colab_type": "code",
    "executionInfo": {
     "elapsed": 1276,
     "status": "ok",
     "timestamp": 1593864499844,
     "user": {
      "displayName": "Yasamin Tabatabaee",
      "photoUrl": "",
      "userId": "07445355406834081164"
     },
     "user_tz": -270
    },
    "id": "I3rGmxQktolV"
   },
   "outputs": [],
   "source": [
    "# Building features and targets (for test and validation data)\n",
    "\n",
    "def build_data(query_dict):\n",
    "    y = []\n",
    "    X = []\n",
    "    for query in query_dict:\n",
    "        docs = query_dict[query]\n",
    "        for (d, c) in docs:\n",
    "            X.append(d)\n",
    "            y.append(c)\n",
    "    y = np.array(y)\n",
    "    X = np.array(X)\n",
    "    return X, y     "
   ]
  },
  {
   "cell_type": "code",
   "execution_count": 9,
   "metadata": {
    "colab": {},
    "colab_type": "code",
    "executionInfo": {
     "elapsed": 1386,
     "status": "ok",
     "timestamp": 1593864054732,
     "user": {
      "displayName": "Yasamin Tabatabaee",
      "photoUrl": "",
      "userId": "07445355406834081164"
     },
     "user_tz": -270
    },
    "id": "oEflYearCeu4"
   },
   "outputs": [],
   "source": [
    "data_train = load_data('train.txt')\n",
    "data_test = load_data('test.txt')\n",
    "data_val = load_data('vali.txt')"
   ]
  },
  {
   "cell_type": "code",
   "execution_count": 11,
   "metadata": {
    "colab": {
     "base_uri": "https://localhost:8080/",
     "height": 69
    },
    "colab_type": "code",
    "executionInfo": {
     "elapsed": 1021,
     "status": "ok",
     "timestamp": 1593864456193,
     "user": {
      "displayName": "Yasamin Tabatabaee",
      "photoUrl": "",
      "userId": "07445355406834081164"
     },
     "user_tz": -270
    },
    "id": "Jtxm6GF6TYTB",
    "outputId": "c9c12d0a-2d5f-48c4-ce29-e04222915b4e"
   },
   "outputs": [
    {
     "name": "stdout",
     "output_type": "stream",
     "text": [
      "Num training queries:  471\n",
      "Num validation queries:  157\n",
      "Num test queries:  156\n"
     ]
    }
   ],
   "source": [
    "print(\"Num training queries: \", len(data_train))\n",
    "print(\"Num validation queries: \", len(data_val))\n",
    "print(\"Num test queries: \", len(data_test))"
   ]
  },
  {
   "cell_type": "code",
   "execution_count": 22,
   "metadata": {
    "colab": {},
    "colab_type": "code",
    "executionInfo": {
     "elapsed": 1176,
     "status": "ok",
     "timestamp": 1593864620471,
     "user": {
      "displayName": "Yasamin Tabatabaee",
      "photoUrl": "",
      "userId": "07445355406834081164"
     },
     "user_tz": -270
    },
    "id": "4s4uB-rGCs45"
   },
   "outputs": [],
   "source": [
    "X_train, y_train = build_pairwise_data(data_train)\n",
    "X_test, y_test = build_data(data_test)\n",
    "X_val, y_val = build_data(data_val)"
   ]
  },
  {
   "cell_type": "code",
   "execution_count": 23,
   "metadata": {
    "colab": {
     "base_uri": "https://localhost:8080/",
     "height": 34
    },
    "colab_type": "code",
    "executionInfo": {
     "elapsed": 1046,
     "status": "ok",
     "timestamp": 1593864623354,
     "user": {
      "displayName": "Yasamin Tabatabaee",
      "photoUrl": "",
      "userId": "07445355406834081164"
     },
     "user_tz": -270
    },
    "id": "NmzCbYqCDQjV",
    "outputId": "18e792ee-e7e3-4e1e-cf87-52277c33fae8"
   },
   "outputs": [
    {
     "data": {
      "text/plain": [
       "((52325, 46), (2874, 46), (2707, 46))"
      ]
     },
     "execution_count": 23,
     "metadata": {
      "tags": []
     },
     "output_type": "execute_result"
    }
   ],
   "source": [
    "X_train.shape, X_test.shape, X_val.shape"
   ]
  },
  {
   "cell_type": "code",
   "execution_count": 30,
   "metadata": {
    "colab": {
     "base_uri": "https://localhost:8080/",
     "height": 34
    },
    "colab_type": "code",
    "executionInfo": {
     "elapsed": 1126,
     "status": "ok",
     "timestamp": 1593864858186,
     "user": {
      "displayName": "Yasamin Tabatabaee",
      "photoUrl": "",
      "userId": "07445355406834081164"
     },
     "user_tz": -270
    },
    "id": "tjLJH6gev3sI",
    "outputId": "2b425fd2-6c0c-48a1-d5cb-863263d1c101"
   },
   "outputs": [
    {
     "data": {
      "text/plain": [
       "((52325,), (2874,), (2707,))"
      ]
     },
     "execution_count": 30,
     "metadata": {
      "tags": []
     },
     "output_type": "execute_result"
    }
   ],
   "source": [
    "y_train.shape, y_test.shape, y_val.shape"
   ]
  },
  {
   "cell_type": "code",
   "execution_count": null,
   "metadata": {
    "colab": {
     "base_uri": "https://localhost:8080/",
     "height": 34
    },
    "colab_type": "code",
    "executionInfo": {
     "elapsed": 877,
     "status": "ok",
     "timestamp": 1593438621246,
     "user": {
      "displayName": "Yasamin Tabatabaee",
      "photoUrl": "",
      "userId": "07445355406834081164"
     },
     "user_tz": -270
    },
    "id": "gUDyILvdVi2Y",
    "outputId": "9beb1778-42c4-434d-b150-bc87721dae1a"
   },
   "outputs": [
    {
     "data": {
      "text/plain": [
       "array([-1,  0,  1])"
      ]
     },
     "execution_count": 183,
     "metadata": {
      "tags": []
     },
     "output_type": "execute_result"
    }
   ],
   "source": [
    "np.unique(y_train)"
   ]
  },
  {
   "cell_type": "markdown",
   "metadata": {
    "colab_type": "text",
    "id": "tokwPlg2Pn_1"
   },
   "source": [
    "## Training SVM Model and Hyper-parameter Tuning"
   ]
  },
  {
   "cell_type": "markdown",
   "metadata": {
    "colab_type": "text",
    "id": "tkCkijSc94T4"
   },
   "source": [
    "### Average NDCG values"
   ]
  },
  {
   "cell_type": "code",
   "execution_count": 88,
   "metadata": {
    "colab": {},
    "colab_type": "code",
    "executionInfo": {
     "elapsed": 1899,
     "status": "ok",
     "timestamp": 1593868034652,
     "user": {
      "displayName": "Yasamin Tabatabaee",
      "photoUrl": "",
      "userId": "07445355406834081164"
     },
     "user_tz": -270
    },
    "id": "uZ6jL0Ct0Xgs"
   },
   "outputs": [],
   "source": [
    "# compute ndcg for each query and mean of all of them\n",
    "\n",
    "def evaluate_average_ndcg(query_dict, coef, k=None):\n",
    "    ndcg_vals = []\n",
    "    for query in query_dict:\n",
    "        y = []\n",
    "        X = []\n",
    "        docs = query_dict[query]\n",
    "        for (d, c) in docs:\n",
    "            X.append(d)\n",
    "            y.append(c)\n",
    "        y = np.array(y)\n",
    "        X = np.array(X)\n",
    "        scores = np.dot(X, coef.T) \n",
    "        ndcg = ndcg_score(np.asarray([y]), np.asarray([scores.flatten()]), k=k)\n",
    "        # remove queries which have the same relevance for all docs\n",
    "        if ndcg != 0:\n",
    "          ndcg_vals.append(ndcg)\n",
    "    return np.mean(ndcg_vals)       "
   ]
  },
  {
   "cell_type": "markdown",
   "metadata": {
    "colab_type": "text",
    "id": "m8unA9aJ91Qt"
   },
   "source": [
    "### Training"
   ]
  },
  {
   "cell_type": "code",
   "execution_count": 89,
   "metadata": {
    "colab": {
     "base_uri": "https://localhost:8080/",
     "height": 86
    },
    "colab_type": "code",
    "executionInfo": {
     "elapsed": 11603,
     "status": "ok",
     "timestamp": 1593868050259,
     "user": {
      "displayName": "Yasamin Tabatabaee",
      "photoUrl": "",
      "userId": "07445355406834081164"
     },
     "user_tz": -270
    },
    "id": "xc8K-xefFCFS",
    "outputId": "d3807379-7da2-4fa1-d62a-8c36b68f4c90"
   },
   "outputs": [
    {
     "data": {
      "text/plain": [
       "LinearSVC(C=1.0, class_weight=None, dual=True, fit_intercept=True,\n",
       "          intercept_scaling=1, loss='squared_hinge', max_iter=1000,\n",
       "          multi_class='ovr', penalty='l2', random_state=0, tol=0.0001,\n",
       "          verbose=0)"
      ]
     },
     "execution_count": 89,
     "metadata": {
      "tags": []
     },
     "output_type": "execute_result"
    }
   ],
   "source": [
    "# SVM model with default parameters\n",
    "\n",
    "svm_model = svm.LinearSVC(random_state=0)\n",
    "svm_model.fit(X_train, y_train)"
   ]
  },
  {
   "cell_type": "code",
   "execution_count": 90,
   "metadata": {
    "colab": {
     "base_uri": "https://localhost:8080/",
     "height": 34
    },
    "colab_type": "code",
    "executionInfo": {
     "elapsed": 1215,
     "status": "ok",
     "timestamp": 1593868061644,
     "user": {
      "displayName": "Yasamin Tabatabaee",
      "photoUrl": "",
      "userId": "07445355406834081164"
     },
     "user_tz": -270
    },
    "id": "u-KAfcet0wvP",
    "outputId": "55f301df-4f88-41a6-db1a-5e03c3adec98"
   },
   "outputs": [
    {
     "data": {
      "text/plain": [
       "0.7662074077880603"
      ]
     },
     "execution_count": 90,
     "metadata": {
      "tags": []
     },
     "output_type": "execute_result"
    }
   ],
   "source": [
    "# average ndcg on validation data with default params\n",
    "evaluate_average_ndcg(data_val, svm_model.coef_)"
   ]
  },
  {
   "cell_type": "markdown",
   "metadata": {},
   "source": [
    "### Hyperparameter Tuning"
   ]
  },
  {
   "cell_type": "code",
   "execution_count": 95,
   "metadata": {
    "colab": {
     "base_uri": "https://localhost:8080/",
     "height": 120
    },
    "colab_type": "code",
    "executionInfo": {
     "elapsed": 14225,
     "status": "ok",
     "timestamp": 1593868173334,
     "user": {
      "displayName": "Yasamin Tabatabaee",
      "photoUrl": "",
      "userId": "07445355406834081164"
     },
     "user_tz": -270
    },
    "id": "ywWGEAjCNUke",
    "outputId": "1ef0bbb6-b03c-4348-9a89-d57ae9a238ac"
   },
   "outputs": [
    {
     "name": "stdout",
     "output_type": "stream",
     "text": [
      "0.7662074077880603 1\n",
      "0.7662315992476308 0.1\n",
      "0.7659158363756174 0.01\n",
      "0.7641601941246547 0.001\n",
      "0.7604602982935231 0.0001\n",
      "Best param = {'C' : 0.1}\n"
     ]
    }
   ],
   "source": [
    "# Hyper-parameter tuning with validation data\n",
    "params = [1, 0.1, 0.01, 0.001, 0.0001]\n",
    "best_param = 1\n",
    "best_ndcg = 0\n",
    "\n",
    "for c in params:\n",
    "    svm_model = svm.LinearSVC(random_state=0, C = c)\n",
    "    svm_model.fit(X_train, y_train)\n",
    "    coef = svm_model.coef_\n",
    "    ndcg = evaluate_average_ndcg(data_val, coef)\n",
    "    print(ndcg, c)\n",
    "    if ndcg > best_ndcg:\n",
    "        best_param = c\n",
    "        best_ndcg = ndcg\n",
    "\n",
    "print(\"Best param = {'C' : \" + str(best_param) + \"}\")        "
   ]
  },
  {
   "cell_type": "markdown",
   "metadata": {
    "colab_type": "text",
    "id": "bhquf-zKPvt3"
   },
   "source": [
    "## Model Performance with NDCG@5"
   ]
  },
  {
   "cell_type": "code",
   "execution_count": 96,
   "metadata": {
    "colab": {
     "base_uri": "https://localhost:8080/",
     "height": 86
    },
    "colab_type": "code",
    "executionInfo": {
     "elapsed": 2466,
     "status": "ok",
     "timestamp": 1593868238261,
     "user": {
      "displayName": "Yasamin Tabatabaee",
      "photoUrl": "",
      "userId": "07445355406834081164"
     },
     "user_tz": -270
    },
    "id": "1bB4nEL68uaH",
    "outputId": "898cec1b-596e-47c5-c77a-de2a9ae1bbe4"
   },
   "outputs": [
    {
     "data": {
      "text/plain": [
       "LinearSVC(C=0.1, class_weight=None, dual=True, fit_intercept=True,\n",
       "          intercept_scaling=1, loss='squared_hinge', max_iter=1000,\n",
       "          multi_class='ovr', penalty='l2', random_state=0, tol=0.0001,\n",
       "          verbose=0)"
      ]
     },
     "execution_count": 96,
     "metadata": {
      "tags": []
     },
     "output_type": "execute_result"
    }
   ],
   "source": [
    "svm_model = svm.LinearSVC(random_state=0, C = best_param)\n",
    "svm_model.fit(X_train, y_train)"
   ]
  },
  {
   "cell_type": "code",
   "execution_count": 97,
   "metadata": {
    "colab": {
     "base_uri": "https://localhost:8080/",
     "height": 34
    },
    "colab_type": "code",
    "executionInfo": {
     "elapsed": 1157,
     "status": "ok",
     "timestamp": 1593868241029,
     "user": {
      "displayName": "Yasamin Tabatabaee",
      "photoUrl": "",
      "userId": "07445355406834081164"
     },
     "user_tz": -270
    },
    "id": "BKhOe3lZ8mLF",
    "outputId": "045e9466-aae6-43d5-b1a7-a6c4499975fc"
   },
   "outputs": [
    {
     "data": {
      "text/plain": [
       "0.7378472102305029"
      ]
     },
     "execution_count": 97,
     "metadata": {
      "tags": []
     },
     "output_type": "execute_result"
    }
   ],
   "source": [
    "# average ndcg per query for test data\n",
    "evaluate_average_ndcg(data_test, svm_model.coef_, k=5)"
   ]
  }
 ],
 "metadata": {
  "colab": {
   "authorship_tag": "ABX9TyP51BAsNfso4IJV4KwUYSrd",
   "collapsed_sections": [],
   "name": "Ranking.ipynb",
   "provenance": [],
   "toc_visible": true
  },
  "kernelspec": {
   "display_name": "Python 3",
   "language": "python",
   "name": "python3"
  },
  "language_info": {
   "codemirror_mode": {
    "name": "ipython",
    "version": 3
   },
   "file_extension": ".py",
   "mimetype": "text/x-python",
   "name": "python",
   "nbconvert_exporter": "python",
   "pygments_lexer": "ipython3",
   "version": "3.7.5rc1"
  }
 },
 "nbformat": 4,
 "nbformat_minor": 1
}
